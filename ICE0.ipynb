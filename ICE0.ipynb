{
 "cells": [
  {
   "cell_type": "markdown",
   "id": "3f419ca1",
   "metadata": {},
   "source": [
    "# ICE 0\n",
    "### 09/16/2021   Honglin Zheng"
   ]
  },
  {
   "cell_type": "markdown",
   "id": "cd5a0b38",
   "metadata": {},
   "source": [
    "**task:**\n",
    "- download and install\n",
    "- code\n",
    "- save"
   ]
  },
  {
   "attachments": {
    "anaconda.png": {
     "image/png": "[encoded data removed]"
    }
   },
   "cell_type": "markdown",
   "id": "3e7cd4cf",
   "metadata": {},
   "source": [
    "![anaconda.png](attachment:anaconda.png)\n"
   ]
  },
  {
   "cell_type": "markdown",
   "id": "30dcbdd8",
   "metadata": {},
   "source": [
    "<div align=\"center\"> (this is the IDE I used)"
   ]
  },
  {
   "cell_type": "code",
   "execution_count": 37,
   "id": "d2be7406",
   "metadata": {},
   "outputs": [
    {
     "name": "stdout",
     "output_type": "stream",
     "text": [
      "Hello World!\n"
     ]
    }
   ],
   "source": [
    "print(\"Hello World!\")"
   ]
  },
  {
   "cell_type": "code",
   "execution_count": 38,
   "id": "3261040d",
   "metadata": {},
   "outputs": [],
   "source": [
    "x=1\n",
    "y=2\n",
    "xy='yes!'\n",
    "#print(x,y,x+y,xy)"
   ]
  },
  {
   "cell_type": "code",
   "execution_count": 36,
   "id": "30f6306a",
   "metadata": {},
   "outputs": [
    {
     "name": "stdout",
     "output_type": "stream",
     "text": [
      "1\n",
      "2\n"
     ]
    }
   ],
   "source": [
    "\n",
    "print (x)\n",
    "x = y\n",
    "print (x)"
   ]
  },
  {
   "cell_type": "code",
   "execution_count": 19,
   "id": "3cc72920",
   "metadata": {},
   "outputs": [
    {
     "name": "stdout",
     "output_type": "stream",
     "text": [
      "4 1.0\n"
     ]
    }
   ],
   "source": [
    "print(x*y,x/y)"
   ]
  },
  {
   "cell_type": "code",
   "execution_count": 20,
   "id": "f8a953dd",
   "metadata": {},
   "outputs": [
    {
     "name": "stdout",
     "output_type": "stream",
     "text": [
      "1 0\n"
     ]
    }
   ],
   "source": [
    "print(x//y,x%y)"
   ]
  },
  {
   "cell_type": "code",
   "execution_count": 21,
   "id": "a2958d30",
   "metadata": {},
   "outputs": [
    {
     "name": "stdout",
     "output_type": "stream",
     "text": [
      "False True False\n"
     ]
    }
   ],
   "source": [
    "print(x!=y, x==y, x<y)"
   ]
  },
  {
   "cell_type": "code",
   "execution_count": 22,
   "id": "db7e2c1c",
   "metadata": {},
   "outputs": [
    {
     "data": {
      "text/plain": [
       "'/Users/zhenghonglin'"
      ]
     },
     "execution_count": 22,
     "metadata": {},
     "output_type": "execute_result"
    }
   ],
   "source": [
    "import os\n",
    "os.getcwd()"
   ]
  },
  {
   "cell_type": "code",
   "execution_count": 23,
   "id": "8551ad7b",
   "metadata": {},
   "outputs": [],
   "source": [
    "#this comment doesn't run."
   ]
  },
  {
   "cell_type": "code",
   "execution_count": null,
   "id": "08e9b72e",
   "metadata": {},
   "outputs": [],
   "source": []
  },
  {
   "cell_type": "code",
   "execution_count": null,
   "id": "feaa5b39",
   "metadata": {},
   "outputs": [],
   "source": []
  }
 ],
 "metadata": {
  "kernelspec": {
   "display_name": "Python 3 (ipykernel)",
   "language": "python",
   "name": "python3"
  },
  "language_info": {
   "codemirror_mode": {
    "name": "ipython",
    "version": 3
   },
   "file_extension": ".py",
   "mimetype": "text/x-python",
   "name": "python",
   "nbconvert_exporter": "python",
   "pygments_lexer": "ipython3",
   "version": "3.8.12"
  }
 },
 "nbformat": 4,
 "nbformat_minor": 5
}
